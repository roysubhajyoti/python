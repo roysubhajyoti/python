{
 "cells": [
  {
   "cell_type": "code",
   "execution_count": 23,
   "metadata": {},
   "outputs": [],
   "source": [
    "###### Syntx:\n",
    "\n",
    "def function_name(parameters):\n",
    "        '''Docstring'''\n",
    "        # Function body\n",
    "        return Expresion"
   ]
  },
  {
   "cell_type": "code",
   "execution_count": 24,
   "metadata": {},
   "outputs": [
    {
     "name": "stdout",
     "output_type": "stream",
     "text": [
      "24 is a even number\n"
     ]
    }
   ],
   "source": [
    "\n",
    "def is_even_odd (age):\n",
    "    \"\"\"This function perform even or odd\"\"\"\n",
    "    if(age&1):\n",
    "        print(f\"{age} is a odd number\")\n",
    "    else:\n",
    "        print(f\"{age} is a even number\")\n",
    "\n",
    "age=int(input(\"enter age : \"));\n",
    "is_even_odd(age)    "
   ]
  },
  {
   "cell_type": "code",
   "execution_count": 25,
   "metadata": {},
   "outputs": [
    {
     "name": "stdout",
     "output_type": "stream",
     "text": [
      "11\n"
     ]
    }
   ],
   "source": [
    "## function with multiple parameter with deafult parameter \n",
    "def add(a=0,b=0):\n",
    "    return a+b\n",
    "\n",
    "result=add(5,6)\n",
    "print(result)"
   ]
  },
  {
   "cell_type": "code",
   "execution_count": 26,
   "metadata": {},
   "outputs": [
    {
     "name": "stdout",
     "output_type": "stream",
     "text": [
      "hello Subhajyoti\n"
     ]
    }
   ],
   "source": [
    "## default\n",
    "\n",
    "def greet(name=\"Subhajyoti\"):\n",
    "    print(f\"hello {name}\")\n",
    "\n",
    "greet()"
   ]
  },
  {
   "cell_type": "code",
   "execution_count": 27,
   "metadata": {},
   "outputs": [],
   "source": [
    "## variable length arguments\n",
    "## positional arguments\n",
    "\n",
    "def print_numbers(*args):\n",
    "    for num in args:\n",
    "        print(num)"
   ]
  },
  {
   "cell_type": "code",
   "execution_count": 28,
   "metadata": {},
   "outputs": [
    {
     "name": "stdout",
     "output_type": "stream",
     "text": [
      "1\n",
      "2\n",
      "3\n",
      "subha\n",
      "hello\n"
     ]
    }
   ],
   "source": [
    "## positional arguments \n",
    "print_numbers(1,2,3,\"subha\",\"hello\")"
   ]
  },
  {
   "cell_type": "code",
   "execution_count": 29,
   "metadata": {},
   "outputs": [],
   "source": [
    "### keyword Arguments\n",
    "def print_details(**Kwargs):\n",
    "     for key,value in Kwargs.items():\n",
    "          print(f\"{key}:{value}\")"
   ]
  },
  {
   "cell_type": "code",
   "execution_count": 30,
   "metadata": {},
   "outputs": [
    {
     "name": "stdout",
     "output_type": "stream",
     "text": [
      "name:Subhajyoti\n",
      "county:INDIA\n"
     ]
    }
   ],
   "source": [
    "print_details(name=\"Subhajyoti\",county=\"INDIA\")"
   ]
  },
  {
   "cell_type": "code",
   "execution_count": 31,
   "metadata": {},
   "outputs": [],
   "source": [
    "## combining both : always in this sequence\n",
    "def print_combine(*args,**kwargs):\n",
    "    for val in args:\n",
    "        print(f\"positional args :{val}\")\n",
    "    print(\"keywords args :\")\n",
    "    for key,value in kwargs.items():\n",
    "        print(f\"{key}:{value}\")"
   ]
  },
  {
   "cell_type": "code",
   "execution_count": 32,
   "metadata": {},
   "outputs": [
    {
     "name": "stdout",
     "output_type": "stream",
     "text": [
      "positional args :1\n",
      "positional args :2\n",
      "positional args :3\n",
      "positional args :subha\n",
      "keywords args :\n",
      "name:Subhajyoti\n",
      "county:INDIA\n"
     ]
    }
   ],
   "source": [
    "print_combine(1,2,3,\"subha\",name=\"Subhajyoti\",county=\"INDIA\")"
   ]
  },
  {
   "cell_type": "code",
   "execution_count": 33,
   "metadata": {},
   "outputs": [
    {
     "data": {
      "text/plain": [
       "(6, 2, 3, 5)"
      ]
     },
     "execution_count": 33,
     "metadata": {},
     "output_type": "execute_result"
    }
   ],
   "source": [
    "### return sasatement\n",
    "## can return multiple parameters \n",
    "\n",
    "def multiply(a,b):\n",
    "    return a*b,a,b,a+b\n",
    "\n",
    "multiply(2,3)"
   ]
  },
  {
   "cell_type": "code",
   "execution_count": null,
   "metadata": {},
   "outputs": [],
   "source": []
  },
  {
   "cell_type": "markdown",
   "metadata": {},
   "source": [
    "##### conclusion :\n",
    "- structure of function\n",
    "- default argument\n",
    "- positional(*args) \n",
    "- keyword parameters (**kwargs)\n",
    "- positional followed by keyword always\n",
    "- can return multiple value in return statement "
   ]
  },
  {
   "cell_type": "markdown",
   "metadata": {},
   "source": []
  }
 ],
 "metadata": {
  "kernelspec": {
   "display_name": "Python 3",
   "language": "python",
   "name": "python3"
  },
  "language_info": {
   "codemirror_mode": {
    "name": "ipython",
    "version": 3
   },
   "file_extension": ".py",
   "mimetype": "text/x-python",
   "name": "python",
   "nbconvert_exporter": "python",
   "pygments_lexer": "ipython3",
   "version": "3.12.0"
  }
 },
 "nbformat": 4,
 "nbformat_minor": 2
}
