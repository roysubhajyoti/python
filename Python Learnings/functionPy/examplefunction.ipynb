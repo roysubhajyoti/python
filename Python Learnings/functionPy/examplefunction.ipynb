{
 "cells": [
  {
   "cell_type": "code",
   "execution_count": 4,
   "metadata": {},
   "outputs": [
    {
     "name": "stdout",
     "output_type": "stream",
     "text": [
      "True\n",
      "False\n"
     ]
    }
   ],
   "source": [
    "## Strong PassWord checker\n",
    "def is_password_strong(password):\n",
    "    \"\"\"this function checks if the password is strong or not\"\"\"\n",
    "    if len(password)<8:\n",
    "        return False\n",
    "    if not any (char.isdigit() for char in password):\n",
    "        return False\n",
    "    if not any (char.islower() for char in password):\n",
    "        return False\n",
    "    if not any (char.isupper() for char in password):\n",
    "        return False\n",
    "    if not any (char in \"#@%$&\" for char in password):\n",
    "        return False\n",
    "    return True\n",
    "\n",
    "\n",
    "print(is_password_strong(\"hello@123A\"))\n",
    "print(is_password_strong(\"hello123A\"))"
   ]
  },
  {
   "cell_type": "code",
   "execution_count": 7,
   "metadata": {},
   "outputs": [
    {
     "data": {
      "text/plain": [
       "12.2"
      ]
     },
     "execution_count": 7,
     "metadata": {},
     "output_type": "execute_result"
    }
   ],
   "source": [
    "### Calculate total price\n",
    "\n",
    "def total_cart_price(cart):\n",
    "    total_price=0;\n",
    "    \"\"\"this function will calculate total cart price \"\"\"\n",
    "    for items in cart:\n",
    "        total_price +=items['price'] * items['qty']\n",
    "    return total_price\n",
    "\n",
    "cart =[\n",
    "    {'name':\"apple\",'price':0.5,'qty':10},\n",
    "    {'name':\"orange\",'price':0.6,'qty':10},\n",
    "    {'name':\"banana\",'price':0.2,'qty':6},\n",
    "]\n",
    "\n",
    "total_cart_price(cart)\n"
   ]
  },
  {
   "cell_type": "code",
   "execution_count": 10,
   "metadata": {},
   "outputs": [
    {
     "name": "stdout",
     "output_type": "stream",
     "text": [
      "True\n",
      "False\n"
     ]
    }
   ],
   "source": [
    "## check if Palindrome\n",
    "\n",
    "def is_palindrome(text):\n",
    "    text=text.lower().replace(\" \",\"\")\n",
    "    return text== text[::-1]\n",
    "\n",
    "print(is_palindrome(\"radar radar\"))\n",
    "print(is_palindrome(\"radar rada\"))"
   ]
  },
  {
   "cell_type": "code",
   "execution_count": 16,
   "metadata": {},
   "outputs": [
    {
     "name": "stdout",
     "output_type": "stream",
     "text": [
      "120\n",
      "720\n",
      "362880\n"
     ]
    }
   ],
   "source": [
    "## factorial of a number using recursion\n",
    "\n",
    "def facto(num):\n",
    "    if num==1: \n",
    "        return 1\n",
    "    return num*facto(num-1)\n",
    "\n",
    "print(facto(5))\n",
    "print(facto(6))\n",
    "print(facto(9))\n",
    "\n"
   ]
  },
  {
   "cell_type": "code",
   "execution_count": 21,
   "metadata": {},
   "outputs": [
    {
     "name": "stdout",
     "output_type": "stream",
     "text": [
      "{'hi': 2, 'my': 1, 'name': 1, 'is': 1, 'subhajyoti': 1, 'roy': 2}\n"
     ]
    }
   ],
   "source": [
    "## A function to read file and and Count the frequency of each character\n",
    "\n",
    "def count_freq(file_path):\n",
    "    count_word={}\n",
    "    with open(file_path,'r') as file:\n",
    "        for line in file:\n",
    "            words=line.split()\n",
    "            for word in words:\n",
    "                word = word.lower().strip('.,!?:\"')\n",
    "                count_word[word]=count_word.get(word,0)+1\n",
    "\n",
    "    return count_word\n",
    "\n",
    "file_path='sample.txt'\n",
    "word_feq = count_freq(file_path)\n",
    "print(word_feq)\n",
    "\n"
   ]
  },
  {
   "cell_type": "code",
   "execution_count": null,
   "metadata": {},
   "outputs": [],
   "source": []
  }
 ],
 "metadata": {
  "kernelspec": {
   "display_name": "Python 3",
   "language": "python",
   "name": "python3"
  },
  "language_info": {
   "codemirror_mode": {
    "name": "ipython",
    "version": 3
   },
   "file_extension": ".py",
   "mimetype": "text/x-python",
   "name": "python",
   "nbconvert_exporter": "python",
   "pygments_lexer": "ipython3",
   "version": "3.12.0"
  }
 },
 "nbformat": 4,
 "nbformat_minor": 2
}
