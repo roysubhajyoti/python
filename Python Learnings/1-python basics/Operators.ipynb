{
 "cells": [
  {
   "cell_type": "markdown",
   "metadata": {},
   "source": [
    "#### Arithmetic Operators\n",
    "\n",
    "<small>\n",
    "• **Addition**: `+`<br>\n",
    "• **Subtraction**: `-`<br>\n",
    "• **Multiplication**: `*`<br>\n",
    "• **Division**: `/`<br>\n",
    "• **Floor Division**: `//`<br>\n",
    "• **Modulus**: `%`<br>\n",
    "• **Exponentiation**: `**`\n",
    "</small>\n",
    "\n",
    "#### Comparison Operators\n",
    "\n",
    "<small>\n",
    "• **Equal to**: `==`<br>\n",
    "• **Not equal to**: `!=`<br>\n",
    "• **Greater than**: `>`<br>\n",
    "• **Less than**: `<`<br>\n",
    "• **Greater than or equal to**: `>=`<br>\n",
    "• **Less than or equal to**: `<=`\n",
    "</small>\n",
    "\n",
    "#### Logical Operators\n",
    "\n",
    "<small>\n",
    "    -AND </br>\n",
    "    -OR</br>\n",
    "    -NOT</br>\n",
    "\n",
    "</small>"
   ]
  },
  {
   "cell_type": "code",
   "execution_count": 6,
   "metadata": {},
   "outputs": [
    {
     "name": "stdout",
     "output_type": "stream",
     "text": [
      "15\n",
      "5\n",
      "50\n",
      "2.0\n",
      "2\n",
      "0\n",
      "100000\n"
     ]
    }
   ],
   "source": [
    "## Arhmatic\n",
    "\n",
    "a=10\n",
    "b=5\n",
    "\n",
    "add_result=a+b\n",
    "sub_result=a-b\n",
    "mult_result=a*b\n",
    "div_result=a/b\n",
    "floor_div_result=a//b\n",
    "Modulus_result=a%b\n",
    "exponent_result = a ** b\n",
    "\n",
    "\n",
    "print(add_result)\n",
    "print(sub_result)\n",
    "print(mult_result)\n",
    "print(div_result)\n",
    "print(floor_div_result)\n",
    "print(Modulus_result)\n",
    "print(exponent_result)\n"
   ]
  },
  {
   "cell_type": "code",
   "execution_count": 7,
   "metadata": {},
   "outputs": [
    {
     "data": {
      "text/plain": [
       "4"
      ]
     },
     "execution_count": 7,
     "metadata": {},
     "output_type": "execute_result"
    }
   ],
   "source": [
    "21//5"
   ]
  },
  {
   "cell_type": "code",
   "execution_count": 10,
   "metadata": {},
   "outputs": [
    {
     "data": {
      "text/plain": [
       "4.2"
      ]
     },
     "execution_count": 10,
     "metadata": {},
     "output_type": "execute_result"
    }
   ],
   "source": [
    "21/5"
   ]
  },
  {
   "cell_type": "code",
   "execution_count": null,
   "metadata": {},
   "outputs": [],
   "source": []
  }
 ],
 "metadata": {
  "kernelspec": {
   "display_name": "Python 3",
   "language": "python",
   "name": "python3"
  },
  "language_info": {
   "codemirror_mode": {
    "name": "ipython",
    "version": 3
   },
   "file_extension": ".py",
   "mimetype": "text/x-python",
   "name": "python",
   "nbconvert_exporter": "python",
   "pygments_lexer": "ipython3",
   "version": "3.12.0"
  }
 },
 "nbformat": 4,
 "nbformat_minor": 2
}
