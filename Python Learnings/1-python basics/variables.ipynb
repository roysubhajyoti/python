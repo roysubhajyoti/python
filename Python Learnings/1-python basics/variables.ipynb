{
 "cells": [
  {
   "cell_type": "markdown",
   "metadata": {},
   "source": [
    " In python variable are created when you assign value to them/\n",
    " And they do not need explicit declaration to reserve memory space/\n",
    "the declaration happens when you assign a value to a variable"
   ]
  },
  {
   "cell_type": "code",
   "execution_count": 1,
   "metadata": {},
   "outputs": [],
   "source": [
    "a=100\n"
   ]
  },
  {
   "cell_type": "code",
   "execution_count": 3,
   "metadata": {},
   "outputs": [
    {
     "name": "stdout",
     "output_type": "stream",
     "text": [
      "age : 24\n",
      "height : 5.9\n",
      "name : Subhajyoti\n"
     ]
    }
   ],
   "source": [
    "## declaring and assignin variable\n",
    "age = 24\n",
    "name = \"Subhajyoti\"\n",
    "Height = 5.9\n",
    "\n",
    "## print \n",
    "print(\"age :\",age)\n",
    "print(\"height :\",Height)\n",
    "print(\"name :\",name)"
   ]
  },
  {
   "cell_type": "code",
   "execution_count": 4,
   "metadata": {},
   "outputs": [],
   "source": [
    "## Naming convention\n",
    "## variable name should be despcriptive\n",
    "## start with a letter or '_' and contains letter ,numbers and underscores\n",
    "## variable names case sensitive\n",
    "\n",
    "## valid variable name \n",
    "fisrt_name = \"SUBHAJYOTI\"\n",
    "last_name =\"ROY\"\n",
    "\n",
    "##Invalid\n",
    "\n",
    "#2age=30\n",
    "## @name = \"sjr\"\n"
   ]
  },
  {
   "cell_type": "code",
   "execution_count": 7,
   "metadata": {},
   "outputs": [
    {
     "name": "stdout",
     "output_type": "stream",
     "text": [
      "<class 'float'>\n",
      "<class 'int'>\n"
     ]
    }
   ],
   "source": [
    "## Understanding variable types\n",
    "## pyhton is dynamically typed ,type of a variable is determined at runtime\n",
    "\n",
    "age=25\n",
    "height =6.1 \n",
    "print(type(height))\n",
    "print(type(age))"
   ]
  },
  {
   "cell_type": "code",
   "execution_count": 9,
   "metadata": {},
   "outputs": [
    {
     "name": "stdout",
     "output_type": "stream",
     "text": [
      "<class 'int'>\n",
      "24\n",
      "<class 'str'>\n"
     ]
    }
   ],
   "source": [
    "## Type checking and conversion\n",
    "\n",
    "age=24\n",
    "print(type(age))\n",
    "\n",
    "# Type convesion\n",
    "\n",
    "age_str = str(age)\n",
    "print(age_str)\n",
    "print(type(age_str))\n"
   ]
  },
  {
   "cell_type": "code",
   "execution_count": 10,
   "metadata": {},
   "outputs": [
    {
     "name": "stdout",
     "output_type": "stream",
     "text": [
      "<class 'str'>\n",
      "<class 'int'>\n"
     ]
    }
   ],
   "source": [
    "## Type conversion\n",
    "\n",
    "# numerical string to int possible but no letter\n",
    "age=\"25\"\n",
    "print(type(age))\n",
    "print(type(int(age)))\n"
   ]
  },
  {
   "cell_type": "code",
   "execution_count": 11,
   "metadata": {},
   "outputs": [
    {
     "name": "stdout",
     "output_type": "stream",
     "text": [
      "<class 'str'>\n"
     ]
    },
    {
     "ename": "ValueError",
     "evalue": "invalid literal for int() with base 10: 'sjr'",
     "output_type": "error",
     "traceback": [
      "\u001b[1;31m---------------------------------------------------------------------------\u001b[0m",
      "\u001b[1;31mValueError\u001b[0m                                Traceback (most recent call last)",
      "Cell \u001b[1;32mIn[11], line 3\u001b[0m\n\u001b[0;32m      1\u001b[0m name\u001b[38;5;241m=\u001b[39m\u001b[38;5;124m\"\u001b[39m\u001b[38;5;124msjr\u001b[39m\u001b[38;5;124m\"\u001b[39m\n\u001b[0;32m      2\u001b[0m \u001b[38;5;28mprint\u001b[39m(\u001b[38;5;28mtype\u001b[39m(age))\n\u001b[1;32m----> 3\u001b[0m \u001b[38;5;28mprint\u001b[39m(\u001b[38;5;28mtype\u001b[39m(\u001b[38;5;28;43mint\u001b[39;49m\u001b[43m(\u001b[49m\u001b[43mname\u001b[49m\u001b[43m)\u001b[49m))\n",
      "\u001b[1;31mValueError\u001b[0m: invalid literal for int() with base 10: 'sjr'"
     ]
    }
   ],
   "source": [
    "name=\"sjr\"\n",
    "print(type(age))\n",
    "print(type(int(name)))"
   ]
  },
  {
   "cell_type": "code",
   "execution_count": 12,
   "metadata": {},
   "outputs": [
    {
     "data": {
      "text/plain": [
       "float"
      ]
     },
     "execution_count": 12,
     "metadata": {},
     "output_type": "execute_result"
    }
   ],
   "source": [
    "## Float to int and vis\n",
    "\n",
    "height = 5.9\n",
    "type(height)\n"
   ]
  },
  {
   "cell_type": "code",
   "execution_count": 13,
   "metadata": {},
   "outputs": [
    {
     "data": {
      "text/plain": [
       "5"
      ]
     },
     "execution_count": 13,
     "metadata": {},
     "output_type": "execute_result"
    }
   ],
   "source": [
    "int(height) ## basically take floor "
   ]
  },
  {
   "cell_type": "code",
   "execution_count": 14,
   "metadata": {},
   "outputs": [
    {
     "data": {
      "text/plain": [
       "5.0"
      ]
     },
     "execution_count": 14,
     "metadata": {},
     "output_type": "execute_result"
    }
   ],
   "source": [
    "float(int(height)) \n",
    "## do not get back the og "
   ]
  },
  {
   "cell_type": "code",
   "execution_count": 15,
   "metadata": {},
   "outputs": [
    {
     "name": "stdout",
     "output_type": "stream",
     "text": [
      "10 <class 'int'>\n",
      "hello <class 'str'>\n",
      "3.14 <class 'float'>\n"
     ]
    }
   ],
   "source": [
    "## Dynamic Typing\n",
    "## python allows the type of variable to change as the progrm executes\n",
    "\n",
    "var=10\n",
    "print(var,type(var))\n",
    "var=\"hello\"\n",
    "print(var,type(var))\n",
    "var=3.14\n",
    "print(var,type(var))\n",
    "\n",
    "\n"
   ]
  },
  {
   "cell_type": "code",
   "execution_count": 16,
   "metadata": {},
   "outputs": [
    {
     "name": "stdout",
     "output_type": "stream",
     "text": [
      "24 <class 'str'>\n"
     ]
    }
   ],
   "source": [
    "## input --> it comes in string format and need to typeCast to preferred datatype\n",
    "\n",
    "\n",
    "age=input(\"What is the age\")\n",
    "print(age,type(age))  "
   ]
  },
  {
   "cell_type": "code",
   "execution_count": 18,
   "metadata": {},
   "outputs": [
    {
     "name": "stdout",
     "output_type": "stream",
     "text": [
      "5.9 <class 'float'>\n"
     ]
    }
   ],
   "source": [
    "## input with type cast\n",
    "\n",
    "height = float(input(\"what is your height ?? \"))\n",
    "print(height,type(height))"
   ]
  },
  {
   "cell_type": "code",
   "execution_count": 20,
   "metadata": {},
   "outputs": [
    {
     "name": "stdout",
     "output_type": "stream",
     "text": [
      "sum : 22.0\n",
      "difference : -2.0\n",
      "multiplication : 120.0\n",
      "divide : 0.8333333333333334\n"
     ]
    }
   ],
   "source": [
    "## simple calculator\n",
    "\n",
    "num1 = float(input(\"enter 1st num \"))\n",
    "num2 = float(input(\"enter 2nd num \"))\n",
    "\n",
    "sum = num1+num2\n",
    "diff = num1-num2\n",
    "mul =num1*num2\n",
    "div= num1/num2\n",
    "\n",
    "print(\"sum :\",sum)\n",
    "print(\"difference :\",diff)\n",
    "print(\"multiplication :\",mul)\n",
    "print(\"divide :\",div)"
   ]
  },
  {
   "cell_type": "code",
   "execution_count": null,
   "metadata": {},
   "outputs": [],
   "source": []
  }
 ],
 "metadata": {
  "kernelspec": {
   "display_name": "Python 3",
   "language": "python",
   "name": "python3"
  },
  "language_info": {
   "codemirror_mode": {
    "name": "ipython",
    "version": 3
   },
   "file_extension": ".py",
   "mimetype": "text/x-python",
   "name": "python",
   "nbconvert_exporter": "python",
   "pygments_lexer": "ipython3",
   "version": "3.12.0"
  }
 },
 "nbformat": 4,
 "nbformat_minor": 2
}
