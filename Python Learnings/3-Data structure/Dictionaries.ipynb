{
 "cells": [
  {
   "cell_type": "markdown",
   "metadata": {},
   "source": [
    "- Dictionaries are unorderes collection of items.They store data in key-value pairs .\n",
    "- keys must be unique and immutable(eg. strings,numbers, or tuples) , while values can be of any type"
   ]
  },
  {
   "cell_type": "code",
   "execution_count": 1,
   "metadata": {},
   "outputs": [
    {
     "name": "stdout",
     "output_type": "stream",
     "text": [
      "<class 'dict'>\n"
     ]
    }
   ],
   "source": [
    "## creating Dictionaries\n",
    "\n",
    "empty_dict ={}\n",
    "print(type(empty_dict))"
   ]
  },
  {
   "cell_type": "code",
   "execution_count": 3,
   "metadata": {},
   "outputs": [
    {
     "name": "stdout",
     "output_type": "stream",
     "text": [
      "<class 'dict'>\n"
     ]
    }
   ],
   "source": [
    "empty_dict = dict()\n",
    "print(type(empty_dict))"
   ]
  },
  {
   "cell_type": "code",
   "execution_count": 4,
   "metadata": {},
   "outputs": [
    {
     "name": "stdout",
     "output_type": "stream",
     "text": [
      "{'name': 'Sjr', 'age': 24, 'grade': 'SDE I'}\n",
      "<class 'dict'>\n"
     ]
    }
   ],
   "source": [
    "student ={\"name\":\"Sjr\",\"age\":24,\"grade\":\"SDE I\"}\n",
    "print(student)\n",
    "print(type(student))"
   ]
  },
  {
   "cell_type": "code",
   "execution_count": 6,
   "metadata": {},
   "outputs": [
    {
     "name": "stdout",
     "output_type": "stream",
     "text": [
      "{'name': 'sjr', 'age': 24}\n"
     ]
    }
   ],
   "source": [
    "## single key is always used\n",
    "student={\"name\":\"sjr\",\"age\":17,\"age\":24}\n",
    "print(student)\n",
    "## will print the recent value assign to key"
   ]
  },
  {
   "cell_type": "markdown",
   "metadata": {},
   "source": [
    "#### .get() method for accessing element\n",
    "\n",
    "- dictionary_name.get('key','DEFAULT VALUE')\n",
    "- if the key do not exitst inthe dict then the efault value will be the out put"
   ]
  },
  {
   "cell_type": "code",
   "execution_count": 14,
   "metadata": {},
   "outputs": [
    {
     "name": "stdout",
     "output_type": "stream",
     "text": [
      "24\n",
      "Sjr\n",
      "NA\n",
      "SDE I\n"
     ]
    }
   ],
   "source": [
    "## accessing element\n",
    "student ={\"name\":\"Sjr\",\"age\":24,\"grade\":\"SDE I\"}\n",
    "print(student['age'])\n",
    "## accessing using get()\n",
    "\n",
    "print(student.get('name'))\n",
    "print(student.get('lastname',\"NA\"))\n",
    "print(student.get('grade'))"
   ]
  },
  {
   "cell_type": "code",
   "execution_count": 9,
   "metadata": {},
   "outputs": [
    {
     "name": "stdout",
     "output_type": "stream",
     "text": [
      "{'name': 'Sjr', 'age': 24, 'grade': 'SDE I'}\n"
     ]
    }
   ],
   "source": [
    "## Modifying Dicts element\n",
    "##dict are mutable ,so you an add, update or delete elements\n",
    "\n",
    "print(student)"
   ]
  },
  {
   "cell_type": "code",
   "execution_count": 16,
   "metadata": {},
   "outputs": [
    {
     "name": "stdout",
     "output_type": "stream",
     "text": [
      "{'name': 'Sjr', 'age': 24, 'grade': 'SDE I', 'address': 'INDIA'}\n"
     ]
    }
   ],
   "source": [
    "## add\n",
    "student[\"address\"] = \"INDIA\"\n",
    "print(student)"
   ]
  },
  {
   "cell_type": "code",
   "execution_count": 17,
   "metadata": {},
   "outputs": [
    {
     "name": "stdout",
     "output_type": "stream",
     "text": [
      "{'name': 'Sjr', 'age': 24, 'grade': 'SDE I'}\n"
     ]
    }
   ],
   "source": [
    "## delete the key value pair\n",
    "\n",
    "del student['address']\n",
    "print(student)"
   ]
  },
  {
   "cell_type": "markdown",
   "metadata": {},
   "source": [
    "##### Dictionary Methods \n",
    "- .keys() --> will give all the keys\n",
    "- .values() --> will give all the values\n",
    "- .items() --> get all the key value pairs"
   ]
  },
  {
   "cell_type": "code",
   "execution_count": 18,
   "metadata": {},
   "outputs": [
    {
     "name": "stdout",
     "output_type": "stream",
     "text": [
      "dict_keys(['name', 'age', 'grade'])\n",
      "dict_values(['Sjr', 24, 'SDE I'])\n",
      "dict_items([('name', 'Sjr'), ('age', 24), ('grade', 'SDE I')])\n"
     ]
    }
   ],
   "source": [
    "keys= student.keys()\n",
    "print(keys)\n",
    "values = student.values()\n",
    "print(values)\n",
    "items = student.items()\n",
    "print(items)"
   ]
  },
  {
   "cell_type": "markdown",
   "metadata": {},
   "source": [
    "#### Shallow copy\n",
    "- D.copy() -> a shallow copy of D"
   ]
  },
  {
   "cell_type": "code",
   "execution_count": 20,
   "metadata": {},
   "outputs": [
    {
     "name": "stdout",
     "output_type": "stream",
     "text": [
      "{'name': 'Sjr', 'age': 24, 'grade': 'SDE I'}\n",
      "{'name': 'Sjr', 'age': 24, 'grade': 'SDE I'}\n"
     ]
    }
   ],
   "source": [
    "## deep copy\n",
    "\n",
    "student_copydeep = student\n",
    "print(student)\n",
    "print(student_copydeep)\n"
   ]
  },
  {
   "cell_type": "code",
   "execution_count": 22,
   "metadata": {},
   "outputs": [
    {
     "name": "stdout",
     "output_type": "stream",
     "text": [
      "{'name': 'Sjr', 'age': 24, 'grade': 'SDE II'}\n",
      "{'name': 'Sjr', 'age': 24, 'grade': 'SDE II'}\n"
     ]
    }
   ],
   "source": [
    "## now lets modify the student and observe student_copydeep\n",
    "\n",
    "student['grade']='SDE II'\n",
    "print(student)\n",
    "print(student_copydeep)\n",
    "\n",
    "## here we can see that here deep copy happend\n",
    "## as we modify the original student, the student_copydeep also modified\n"
   ]
  },
  {
   "cell_type": "code",
   "execution_count": 25,
   "metadata": {},
   "outputs": [
    {
     "name": "stdout",
     "output_type": "stream",
     "text": [
      "student {'name': 'Sjr', 'age': 24, 'grade': 'SDE II'}\n",
      "student_copy {'name': 'Sjr', 'age': 24, 'grade': 'SDE III'}\n"
     ]
    }
   ],
   "source": [
    "## shallow copy :\n",
    "\n",
    "student_copy = student.copy()\n",
    "student['grade']='SDE II'\n",
    "print(\"student\",student)\n",
    "print(\"student_copy\",student_copy)"
   ]
  },
  {
   "cell_type": "markdown",
   "metadata": {},
   "source": [
    "#### Iterating over Dict\n",
    "##### You can use loops to iterate over dict,keys,values, or items"
   ]
  },
  {
   "cell_type": "code",
   "execution_count": 26,
   "metadata": {},
   "outputs": [
    {
     "name": "stdout",
     "output_type": "stream",
     "text": [
      "name\n",
      "age\n",
      "grade\n"
     ]
    }
   ],
   "source": [
    "## Iterating over keys\n",
    "for keys in student.keys():\n",
    "    print(keys)\n",
    "    "
   ]
  },
  {
   "cell_type": "code",
   "execution_count": 27,
   "metadata": {},
   "outputs": [
    {
     "name": "stdout",
     "output_type": "stream",
     "text": [
      "Sjr\n",
      "24\n",
      "SDE II\n"
     ]
    }
   ],
   "source": [
    "## ierate over values\n",
    "\n",
    "for value in student.values():\n",
    "    print(value)"
   ]
  },
  {
   "cell_type": "code",
   "execution_count": 30,
   "metadata": {},
   "outputs": [
    {
     "name": "stdout",
     "output_type": "stream",
     "text": [
      "name:Sjr\n",
      "age:24\n",
      "grade:SDE II\n"
     ]
    }
   ],
   "source": [
    "## over key value pairs\n",
    "for key,value in student.items():\n",
    "    print(f\"{key }:{ value}\")"
   ]
  },
  {
   "cell_type": "code",
   "execution_count": 32,
   "metadata": {},
   "outputs": [
    {
     "name": "stdout",
     "output_type": "stream",
     "text": [
      "{'student1': {'name': 'Subha', 'age': 24}, 'student2': {'name': 'Subhaj', 'age': 25}, 'student3': {'name': 'Subhajyo', 'age': 26}, 'student4': {'name': 'Subham', 'age': 27}}\n"
     ]
    }
   ],
   "source": [
    "### Nested Dictionaries\n",
    "students={\n",
    "    \"student1\":{\"name\":\"Subha\", \"age\":24},\n",
    "    \"student2\":{\"name\":\"Subhaj\", \"age\":25},\n",
    "    \"student3\":{\"name\":\"Subhajyo\", \"age\":26},\n",
    "    \"student4\":{\"name\":\"Subham\", \"age\":27},\n",
    "}\n",
    "\n",
    "print(students)"
   ]
  },
  {
   "cell_type": "code",
   "execution_count": 40,
   "metadata": {},
   "outputs": [
    {
     "name": "stdout",
     "output_type": "stream",
     "text": [
      "Subha\n",
      "24\n"
     ]
    }
   ],
   "source": [
    "## access in Nested \n",
    "print(students[\"student1\"][\"name\"])\n",
    "print(students[\"student1\"][\"age\"])\n"
   ]
  },
  {
   "cell_type": "code",
   "execution_count": 44,
   "metadata": {},
   "outputs": [
    {
     "name": "stdout",
     "output_type": "stream",
     "text": [
      "student1:{'name': 'Subha', 'age': 24}\n",
      "name:Subha\n",
      "age:24\n",
      "\n",
      "student2:{'name': 'Subhaj', 'age': 25}\n",
      "name:Subhaj\n",
      "age:25\n",
      "\n",
      "student3:{'name': 'Subhajyo', 'age': 26}\n",
      "name:Subhajyo\n",
      "age:26\n",
      "\n",
      "student4:{'name': 'Subham', 'age': 27}\n",
      "name:Subham\n",
      "age:27\n",
      "\n"
     ]
    }
   ],
   "source": [
    "for student_id,student_info in students.items():\n",
    "    print(f\"{student_id}:{student_info}\")\n",
    "    for key,value in student_info.items():\n",
    "        print(f\"{key}:{value}\")\n",
    "    print()"
   ]
  },
  {
   "cell_type": "markdown",
   "metadata": {},
   "source": [
    "##### Dictionary Comprehension\n",
    "- basic : {x:perfrom_ops for x in range(n)}\n",
    "- consitional : {x:perfrom_ops for x in range(n) if condition}"
   ]
  },
  {
   "cell_type": "code",
   "execution_count": 46,
   "metadata": {},
   "outputs": [
    {
     "name": "stdout",
     "output_type": "stream",
     "text": [
      "{1: 1, 2: 4, 3: 9, 4: 16}\n"
     ]
    }
   ],
   "source": [
    "## sqaures of numbers\n",
    "\n",
    "squares = {x:x**2 for x in range(1,5)}\n",
    "print(squares)\n"
   ]
  },
  {
   "cell_type": "code",
   "execution_count": 49,
   "metadata": {},
   "outputs": [
    {
     "name": "stdout",
     "output_type": "stream",
     "text": [
      "{0: 0, 2: 4, 4: 16, 6: 36, 8: 64, 10: 100}\n"
     ]
    }
   ],
   "source": [
    "## conditional dicts\n",
    "## squares of even numbers\n",
    "\n",
    "squares_even = {x:x**2 for x in range(0,11) if x&1 !=1}\n",
    "print(squares_even)"
   ]
  },
  {
   "cell_type": "code",
   "execution_count": 53,
   "metadata": {},
   "outputs": [
    {
     "name": "stdout",
     "output_type": "stream",
     "text": [
      "{1: 1, 2: 3, 3: 2, 4: 5}\n",
      "2\n"
     ]
    }
   ],
   "source": [
    "## Practical example\n",
    "## use a dicts to count freq of elemets in a list\n",
    "\n",
    "numbers = [1,2,2,2,3,3,4,4,4,4,4]\n",
    "frequency = {}\n",
    "\n",
    "for num in numbers:\n",
    "    if(num in frequency):\n",
    "        frequency[num]+=1\n",
    "    else:\n",
    "        frequency[num]=1\n",
    "\n",
    "print(frequency)\n",
    "enter= int(input(\"enter number :\"))\n",
    "\n",
    "print(frequency[enter])"
   ]
  },
  {
   "cell_type": "code",
   "execution_count": null,
   "metadata": {},
   "outputs": [],
   "source": []
  }
 ],
 "metadata": {
  "kernelspec": {
   "display_name": "Python 3",
   "language": "python",
   "name": "python3"
  },
  "language_info": {
   "codemirror_mode": {
    "name": "ipython",
    "version": 3
   },
   "file_extension": ".py",
   "mimetype": "text/x-python",
   "name": "python",
   "nbconvert_exporter": "python",
   "pygments_lexer": "ipython3",
   "version": "3.12.0"
  }
 },
 "nbformat": 4,
 "nbformat_minor": 2
}
