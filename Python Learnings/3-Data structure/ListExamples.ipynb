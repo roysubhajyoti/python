{
 "cells": [
  {
   "cell_type": "code",
   "execution_count": 5,
   "metadata": {},
   "outputs": [
    {
     "name": "stdout",
     "output_type": "stream",
     "text": [
      "do not forget the pay the bills\n",
      "to do list reamining :\n",
      "-Buy groceries\n",
      "-pay bills\n",
      "-study for 5 hrs\n",
      "-go for a run\n"
     ]
    }
   ],
   "source": [
    "## create a TO do list to keep Track Of Tasks\n",
    "\n",
    "to_do_list = [\"Buy groceries\" , \"clean the house\",\"pay bills\"]\n",
    "\n",
    "## ADDING TO THE TASK \n",
    "to_do_list.append(\"study for 5 hrs\")\n",
    "to_do_list.append(\"go for a run\")\n",
    "\n",
    "## Remove a completed task\n",
    "to_do_list.remove(\"clean the house\")\n",
    "\n",
    "## checking if a task in the todo list or not\n",
    "if \"pay bills\" in to_do_list:\n",
    "    print(\"do not forget the pay the bills\")\n",
    "\n",
    "print(\"to do list reamining :\")\n",
    "for task in to_do_list:\n",
    "    print(f\"-{task}\")"
   ]
  },
  {
   "cell_type": "markdown",
   "metadata": {},
   "source": [
    "#### Organizing student grades:\n"
   ]
  },
  {
   "cell_type": "code",
   "execution_count": 6,
   "metadata": {},
   "outputs": [
    {
     "name": "stdout",
     "output_type": "stream",
     "text": [
      "avg grades is 88.0\n",
      "highest : 95\n",
      "lowest : 78\n"
     ]
    }
   ],
   "source": [
    "## create a list and calculate average grades for student:\n",
    "\n",
    "grades =[85,92,78,90]\n",
    "grades.append(95)\n",
    "\n",
    "avg_grade = sum(grades)/len(grades)\n",
    "print(f\"avg grades is {avg_grade}\")\n",
    "\n",
    "highest_grade = max(grades)\n",
    "lowest_grade = min(grades)\n",
    "\n",
    "print(f\"highest : {highest_grade}\")\n",
    "print(f\"lowest : {lowest_grade}\")"
   ]
  },
  {
   "cell_type": "code",
   "execution_count": 7,
   "metadata": {},
   "outputs": [],
   "source": [
    "## managing an inventory"
   ]
  },
  {
   "cell_type": "code",
   "execution_count": 9,
   "metadata": {},
   "outputs": [],
   "source": [
    "## Collecting user feedback \n",
    "## use a list to collect and analyze user feedback"
   ]
  },
  {
   "cell_type": "code",
   "execution_count": 12,
   "metadata": {},
   "outputs": [
    {
     "name": "stdout",
     "output_type": "stream",
     "text": [
      "positive feedback count : 2\n",
      "all the feedbacks :\n",
      "-greate service!\n",
      "-Very satisfied\n",
      "-could be better\n",
      "-Excellent experience\n",
      "-Not happy with the service\n"
     ]
    }
   ],
   "source": [
    "feedback = [\"greate service!\" ,\"Very satisfied\" ,\"could be better\" ,\"Excellent experience\" ]\n",
    "\n",
    "## Adding a new feedback\n",
    "feedback.append(\"Not happy with the service\")\n",
    "\n",
    "## counting the +veb feedback\n",
    "positive_feedback= sum(1 for comment in feedback if \"greate\" in comment.lower() or \"excellent\" in comment.lower() )\n",
    "print(f\"positive feedback count : {positive_feedback}\");\n",
    "\n",
    "print(\"all the feedbacks :\")\n",
    "for feed in feedback:\n",
    "    print(f\"-{feed}\")"
   ]
  },
  {
   "cell_type": "code",
   "execution_count": null,
   "metadata": {},
   "outputs": [],
   "source": []
  }
 ],
 "metadata": {
  "kernelspec": {
   "display_name": "Python 3",
   "language": "python",
   "name": "python3"
  },
  "language_info": {
   "codemirror_mode": {
    "name": "ipython",
    "version": 3
   },
   "file_extension": ".py",
   "mimetype": "text/x-python",
   "name": "python",
   "nbconvert_exporter": "python",
   "pygments_lexer": "ipython3",
   "version": "3.12.0"
  }
 },
 "nbformat": 4,
 "nbformat_minor": 2
}
