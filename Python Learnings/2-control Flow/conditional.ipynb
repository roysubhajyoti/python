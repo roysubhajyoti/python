{
 "cells": [
  {
   "cell_type": "code",
   "execution_count": 2,
   "metadata": {},
   "outputs": [
    {
     "name": "stdout",
     "output_type": "stream",
     "text": [
      "age is : 24\n"
     ]
    }
   ],
   "source": [
    "## if statements\n",
    "\n",
    "age=24\n",
    "\n",
    "if age >= 20:\n",
    "    print(\"age is :\",age)\n",
    "  "
   ]
  },
  {
   "cell_type": "code",
   "execution_count": 3,
   "metadata": {},
   "outputs": [
    {
     "name": "stdout",
     "output_type": "stream",
     "text": [
      "you are a minor\n"
     ]
    }
   ],
   "source": [
    "## else statement\n",
    "age=16\n",
    "\n",
    "if age>=18:\n",
    "    print(\"you are eligible for vote\")\n",
    "else:\n",
    "    print(\"you are a minor\")    "
   ]
  },
  {
   "cell_type": "code",
   "execution_count": 5,
   "metadata": {},
   "outputs": [
    {
     "name": "stdout",
     "output_type": "stream",
     "text": [
      "you are a teenager\n"
     ]
    }
   ],
   "source": [
    "## elif\n",
    "\n",
    "age = 13\n",
    "\n",
    "if age >=13 and age <=19:\n",
    "    print(\"you are a teenager\")\n",
    "elif age >=23:\n",
    "    print(\"you are elibile for anything \")\n",
    "else:\n",
    "    print(\"you age a child\")        "
   ]
  },
  {
   "cell_type": "code",
   "execution_count": 10,
   "metadata": {},
   "outputs": [
    {
     "name": "stdout",
     "output_type": "stream",
     "text": [
      "Positive number\n",
      "even\n"
     ]
    }
   ],
   "source": [
    "num1 = int(input(\"enter a number\"))\n",
    "\n",
    "if num1>0:\n",
    "    print(\"Positive number\")\n",
    "    if num1&1:\n",
    "        print(\"odd\")\n",
    "    else:\n",
    "        print(\"even\") \n",
    "else:\n",
    "    print(\"negative number\")   "
   ]
  },
  {
   "cell_type": "code",
   "execution_count": 12,
   "metadata": {},
   "outputs": [
    {
     "name": "stdout",
     "output_type": "stream",
     "text": [
      "25  is the sum\n"
     ]
    }
   ],
   "source": [
    "## simple calculator\n",
    "\n",
    "num1=int(input(\"enter num1\"))\n",
    "num2=int(input(\"enter num2\"))\n",
    "operator = input(\"enter the operator +,-,/,*\")\n",
    "\n",
    "if(operator == '+'):\n",
    "    print(num1+num2,\" is the sum\")\n",
    "elif(operator == '-'):\n",
    "    print(num1-num2,\" is the subtraction\") \n",
    "elif(operator == '/'):\n",
    "    print(num1/num2,\" is divi\")\n",
    "else:\n",
    "    print(num1*num2,\" is multiplicaion\")       "
   ]
  },
  {
   "cell_type": "code",
   "execution_count": null,
   "metadata": {},
   "outputs": [],
   "source": []
  }
 ],
 "metadata": {
  "kernelspec": {
   "display_name": "Python 3",
   "language": "python",
   "name": "python3"
  },
  "language_info": {
   "codemirror_mode": {
    "name": "ipython",
    "version": 3
   },
   "file_extension": ".py",
   "mimetype": "text/x-python",
   "name": "python",
   "nbconvert_exporter": "python",
   "pygments_lexer": "ipython3",
   "version": "3.12.0"
  }
 },
 "nbformat": 4,
 "nbformat_minor": 2
}
